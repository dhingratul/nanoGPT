{
 "cells": [
  {
   "cell_type": "code",
   "execution_count": 118,
   "metadata": {},
   "outputs": [
    {
     "name": "stdout",
     "output_type": "stream",
     "text": [
      "--2023-06-28 12:20:50--  https://raw.githubusercontent.com/karpathy/char-rnn/master/data/tinyshakespeare/input.txt\n",
      "Resolving raw.githubusercontent.com (raw.githubusercontent.com)... 2606:50c0:8000::154, 2606:50c0:8003::154, 2606:50c0:8001::154, ...\n",
      "Connecting to raw.githubusercontent.com (raw.githubusercontent.com)|2606:50c0:8000::154|:443... connected.\n",
      "HTTP request sent, awaiting response... 200 OK\n",
      "Length: 1115394 (1.1M) [text/plain]\n",
      "Saving to: ‘input.txt.10’\n",
      "\n",
      "input.txt.10        100%[===================>]   1.06M  --.-KB/s    in 0.1s    \n",
      "\n",
      "2023-06-28 12:20:50 (9.10 MB/s) - ‘input.txt.10’ saved [1115394/1115394]\n",
      "\n"
     ]
    }
   ],
   "source": [
    "# We always start with a dataset to train on. Let's download the tiny shakespeare dataset\n",
    "!wget https://raw.githubusercontent.com/karpathy/char-rnn/master/data/tinyshakespeare/input.txt"
   ]
  },
  {
   "cell_type": "code",
   "execution_count": 119,
   "metadata": {},
   "outputs": [],
   "source": [
    "# read it in to inspect it\n",
    "with open('input.txt', 'r', encoding='utf-8') as f:\n",
    "    text = f.read()"
   ]
  },
  {
   "cell_type": "code",
   "execution_count": 120,
   "metadata": {},
   "outputs": [
    {
     "data": {
      "text/plain": [
       "1115394"
      ]
     },
     "execution_count": 120,
     "metadata": {},
     "output_type": "execute_result"
    }
   ],
   "source": [
    "len(text)"
   ]
  },
  {
   "cell_type": "code",
   "execution_count": 121,
   "metadata": {},
   "outputs": [
    {
     "name": "stdout",
     "output_type": "stream",
     "text": [
      "First Citizen:\n",
      "Before we proceed any further, hear me speak.\n",
      "\n",
      "All:\n",
      "Speak, speak.\n",
      "\n",
      "First Citizen:\n",
      "You are all resolved rather to die than to famish?\n",
      "\n",
      "All:\n",
      "Resolved. resolved.\n",
      "\n",
      "First Citizen:\n",
      "First, you know Caius Marcius is chief enemy to the people.\n",
      "\n"
     ]
    }
   ],
   "source": [
    "print(text[:250])"
   ]
  },
  {
   "cell_type": "code",
   "execution_count": 122,
   "metadata": {},
   "outputs": [],
   "source": [
    "vocab = sorted(list(set(text)))\n",
    "vocab_size = len(vocab)"
   ]
  },
  {
   "cell_type": "code",
   "execution_count": 123,
   "metadata": {},
   "outputs": [
    {
     "name": "stdout",
     "output_type": "stream",
     "text": [
      "\n",
      " !$&',-.3:;?ABCDEFGHIJKLMNOPQRSTUVWXYZabcdefghijklmnopqrstuvwxyz 65\n"
     ]
    }
   ],
   "source": [
    "print(\"\".join(vocab), vocab_size)"
   ]
  },
  {
   "cell_type": "code",
   "execution_count": 124,
   "metadata": {},
   "outputs": [],
   "source": [
    "# Create a Mapping -- simple char to int mapping\n",
    "# Map str to int -- stoi\n",
    "stoi, itos = {}, {}\n",
    "for i, ch in enumerate(vocab):\n",
    "    stoi[ch] = i\n",
    "for i, ch in enumerate(vocab):\n",
    "    itos[i] = ch"
   ]
  },
  {
   "cell_type": "code",
   "execution_count": 125,
   "metadata": {},
   "outputs": [
    {
     "name": "stdout",
     "output_type": "stream",
     "text": [
      "{'\\n': 0, ' ': 1, '!': 2, '$': 3, '&': 4, \"'\": 5, ',': 6, '-': 7, '.': 8, '3': 9, ':': 10, ';': 11, '?': 12, 'A': 13, 'B': 14, 'C': 15, 'D': 16, 'E': 17, 'F': 18, 'G': 19, 'H': 20, 'I': 21, 'J': 22, 'K': 23, 'L': 24, 'M': 25, 'N': 26, 'O': 27, 'P': 28, 'Q': 29, 'R': 30, 'S': 31, 'T': 32, 'U': 33, 'V': 34, 'W': 35, 'X': 36, 'Y': 37, 'Z': 38, 'a': 39, 'b': 40, 'c': 41, 'd': 42, 'e': 43, 'f': 44, 'g': 45, 'h': 46, 'i': 47, 'j': 48, 'k': 49, 'l': 50, 'm': 51, 'n': 52, 'o': 53, 'p': 54, 'q': 55, 'r': 56, 's': 57, 't': 58, 'u': 59, 'v': 60, 'w': 61, 'x': 62, 'y': 63, 'z': 64} {0: '\\n', 1: ' ', 2: '!', 3: '$', 4: '&', 5: \"'\", 6: ',', 7: '-', 8: '.', 9: '3', 10: ':', 11: ';', 12: '?', 13: 'A', 14: 'B', 15: 'C', 16: 'D', 17: 'E', 18: 'F', 19: 'G', 20: 'H', 21: 'I', 22: 'J', 23: 'K', 24: 'L', 25: 'M', 26: 'N', 27: 'O', 28: 'P', 29: 'Q', 30: 'R', 31: 'S', 32: 'T', 33: 'U', 34: 'V', 35: 'W', 36: 'X', 37: 'Y', 38: 'Z', 39: 'a', 40: 'b', 41: 'c', 42: 'd', 43: 'e', 44: 'f', 45: 'g', 46: 'h', 47: 'i', 48: 'j', 49: 'k', 50: 'l', 51: 'm', 52: 'n', 53: 'o', 54: 'p', 55: 'q', 56: 'r', 57: 's', 58: 't', 59: 'u', 60: 'v', 61: 'w', 62: 'x', 63: 'y', 64: 'z'}\n"
     ]
    }
   ],
   "source": [
    "print(stoi, itos)"
   ]
  },
  {
   "cell_type": "code",
   "execution_count": 126,
   "metadata": {},
   "outputs": [],
   "source": [
    "# Encoding and Decoding\n",
    "# Encoder i/p: string, o/p: int\n",
    "def encode(s):\n",
    "    _stoi = []\n",
    "    for ch in s:\n",
    "        _stoi.append(stoi[ch])\n",
    "    return _stoi\n",
    "\n",
    "# Decoder i/p: int, o/p: str\n",
    "def decode(i:int)->str:\n",
    "    _itos = []\n",
    "    for _int in i:\n",
    "        _itos.append(itos[_int])\n",
    "    return \"\".join(_itos)"
   ]
  },
  {
   "cell_type": "code",
   "execution_count": 127,
   "metadata": {},
   "outputs": [
    {
     "name": "stdout",
     "output_type": "stream",
     "text": [
      "[37, 53, 59, 1, 39, 56, 43, 1, 40, 43, 47, 52, 45, 1, 61, 39, 58, 41, 46, 43, 42]\n",
      "You are being watched\n"
     ]
    }
   ],
   "source": [
    "print(encode(\"You are being watched\"))\n",
    "print(decode(encode(\"You are being watched\")))"
   ]
  },
  {
   "cell_type": "code",
   "execution_count": 128,
   "metadata": {},
   "outputs": [],
   "source": [
    "# Encode the entire dataset\n",
    "import torch \n",
    "device = \"cuda\" if torch.cuda.is_available() else \"cpu\"\n",
    "data = torch.tensor(encode(text), dtype=torch.long, device=device)"
   ]
  },
  {
   "cell_type": "code",
   "execution_count": 129,
   "metadata": {},
   "outputs": [
    {
     "data": {
      "text/plain": [
       "torch.Size([1115394])"
      ]
     },
     "execution_count": 129,
     "metadata": {},
     "output_type": "execute_result"
    }
   ],
   "source": [
    "data.shape"
   ]
  },
  {
   "cell_type": "code",
   "execution_count": 130,
   "metadata": {},
   "outputs": [
    {
     "data": {
      "text/plain": [
       "tensor([18, 47, 56, 57, 58,  1, 15, 47, 58, 47, 64, 43, 52, 10,  0, 14, 43, 44,\n",
       "        53, 56, 43,  1, 61, 43,  1, 54, 56, 53, 41, 43, 43, 42,  1, 39, 52, 63,\n",
       "         1, 44, 59, 56, 58, 46, 43, 56,  6,  1, 46, 43, 39, 56,  1, 51, 43,  1,\n",
       "        57, 54, 43, 39, 49,  8,  0,  0, 13, 50, 50, 10,  0, 31, 54, 43, 39, 49,\n",
       "         6,  1, 57, 54, 43, 39, 49,  8,  0,  0, 18, 47, 56, 57, 58,  1, 15, 47,\n",
       "        58, 47, 64, 43, 52, 10,  0, 37, 53, 59], device='cuda:0')"
      ]
     },
     "execution_count": 130,
     "metadata": {},
     "output_type": "execute_result"
    }
   ],
   "source": [
    "data[:100]"
   ]
  },
  {
   "cell_type": "code",
   "execution_count": 131,
   "metadata": {},
   "outputs": [],
   "source": [
    "# Train and val set\n",
    "seed = 108\n",
    "split = 0.9\n",
    "n = int(len(data) * split) \n",
    "# TODO: Add shuffle\n",
    "# data = torch.shuffle(data, seed=seed)\n",
    "train_data = data[:n]\n",
    "test_data = data[n:]"
   ]
  },
  {
   "cell_type": "code",
   "execution_count": 132,
   "metadata": {},
   "outputs": [
    {
     "data": {
      "text/plain": [
       "tensor([18, 47, 56, 57, 58,  1, 15, 47, 58], device='cuda:0')"
      ]
     },
     "execution_count": 132,
     "metadata": {},
     "output_type": "execute_result"
    }
   ],
   "source": [
    "# Max len of chunks in train data to look at\n",
    "block_size = 8\n",
    "train_data[:block_size+1]"
   ]
  },
  {
   "cell_type": "code",
   "execution_count": 133,
   "metadata": {},
   "outputs": [
    {
     "name": "stdout",
     "output_type": "stream",
     "text": [
      "X: tensor([18, 47, 56, 57, 58,  1, 15, 47, 58], device='cuda:0'), y: tensor([47, 56, 57, 58,  1, 15, 47, 58], device='cuda:0')\n",
      "Input context: tensor([18], device='cuda:0') with target:47 \n",
      "Input context: tensor([18, 47], device='cuda:0') with target:56 \n",
      "Input context: tensor([18, 47, 56], device='cuda:0') with target:57 \n",
      "Input context: tensor([18, 47, 56, 57], device='cuda:0') with target:58 \n",
      "Input context: tensor([18, 47, 56, 57, 58], device='cuda:0') with target:1 \n",
      "Input context: tensor([18, 47, 56, 57, 58,  1], device='cuda:0') with target:15 \n",
      "Input context: tensor([18, 47, 56, 57, 58,  1, 15], device='cuda:0') with target:47 \n",
      "Input context: tensor([18, 47, 56, 57, 58,  1, 15, 47], device='cuda:0') with target:58 \n"
     ]
    }
   ],
   "source": [
    "X = train_data[:block_size+1]\n",
    "y = train_data[1:block_size+1]\n",
    "print(f\"X: {X}, y: {y}\")\n",
    "for i in range(block_size):\n",
    "    context = X[:i+1]\n",
    "    target = y[i]\n",
    "    print(f\"Input context: {context} with target:{target} \")"
   ]
  },
  {
   "cell_type": "code",
   "execution_count": 134,
   "metadata": {},
   "outputs": [
    {
     "data": {
      "text/plain": [
       "torch.Size([1003854])"
      ]
     },
     "execution_count": 134,
     "metadata": {},
     "output_type": "execute_result"
    }
   ],
   "source": [
    "train_data.shape"
   ]
  },
  {
   "cell_type": "code",
   "execution_count": 135,
   "metadata": {},
   "outputs": [],
   "source": [
    "# Create a dataloader\n",
    "batch_size = 4\n",
    "block_size = 8\n",
    "# Random seed\n",
    "torch.manual_seed(1337)\n",
    "X = []\n",
    "y = []\n",
    "def get_batch(split:str):\n",
    "    data = train_data if split==\"train\" else test_data\n",
    "    # Random offsets in data\n",
    "    idx = torch.randint(low=0,high=(len(data)-block_size), size=(batch_size,))\n",
    "    X = torch.stack([data[i:i+block_size] for i in idx])\n",
    "    y = torch.stack([data[i+1:i+1+block_size] for i in idx])\n",
    "    return X, y"
   ]
  },
  {
   "cell_type": "code",
   "execution_count": 136,
   "metadata": {},
   "outputs": [],
   "source": [
    "xb, yb = get_batch(\"train\")\n"
   ]
  },
  {
   "cell_type": "code",
   "execution_count": 137,
   "metadata": {},
   "outputs": [
    {
     "name": "stdout",
     "output_type": "stream",
     "text": [
      "torch.Size([4, 8])\n"
     ]
    }
   ],
   "source": [
    "print(xb.shape)\n",
    "# 4x8 -> 4 batch, 8 block size"
   ]
  },
  {
   "cell_type": "code",
   "execution_count": 138,
   "metadata": {},
   "outputs": [
    {
     "name": "stdout",
     "output_type": "stream",
     "text": [
      "tensor([[24, 43, 58,  5, 57,  1, 46, 43],\n",
      "        [44, 53, 56,  1, 58, 46, 39, 58],\n",
      "        [52, 58,  1, 58, 46, 39, 58,  1],\n",
      "        [25, 17, 27, 10,  0, 21,  1, 54]], device='cuda:0')\n"
     ]
    }
   ],
   "source": [
    "print(xb)"
   ]
  },
  {
   "cell_type": "code",
   "execution_count": 141,
   "metadata": {},
   "outputs": [],
   "source": [
    "# Bigram Model \n",
    "import torch\n",
    "import torch.nn as nn\n",
    "from torch.nn import functional as F\n",
    "torch.manual_seed(1337)\n",
    "n_embed = 32\n",
    "\n",
    "class BigramLanguageModel(nn.Module):\n",
    "\n",
    "    def __init__(self):\n",
    "        super().__init__()\n",
    "        # each token directly reads off the logits for the next token from a lookup table\n",
    "        self.token_embedding_table = nn.Embedding(vocab_size, n_embed, device=device)\n",
    "        # Encoding not just identity, but also position\n",
    "        self.position_embedding_table = nn.Embedding(block_size, n_embed, device=device)\n",
    "        # n_embed ^ is a intermediate representation\n",
    "        self.llm_head = nn.Linear(n_embed, vocab_size, device=device)\n",
    "        \n",
    "\n",
    "    def forward(self, idx, targets=None):\n",
    "        B, T, C = idx.shape\n",
    "        # idx and targets are both (B,T) tensor of integers\n",
    "        token_emb = self.token_embedding_table(idx) # (B,T,C) # Batch = 4, Time = 8(context), Channel=embed size\n",
    "        pos_emb = self.position_embedding_table(torch.arange(T, device=device)) # (T,C) # Time = 8(context), Channel=embed size\n",
    "        # Holds not just position identity, but also position\n",
    "        x = token_emb + pos_emb # (B,T,C) \n",
    "        logits = self.llm_head(x) # (B,T,C) # Batch = 4, Time = 8(context), Channel=65(Vocab Size)\n",
    "        \n",
    "        if targets is None:\n",
    "            loss = None\n",
    "        else:\n",
    "            B, T, C = logits.shape\n",
    "            # cross_entropy wants B, C, T instead B, T, C\n",
    "            logits = logits.view(B*T, C) # Stretch in 2D\n",
    "            targets = targets.view(B*T)\n",
    "            loss = F.cross_entropy(logits, targets) # Negative log likelihood\n",
    "\n",
    "        return logits, loss\n",
    "    \n",
    "    def generate(self, idx, max_new_tokens):\n",
    "        # idx is (B, T) array of indices in the current context\n",
    "        for _ in range(max_new_tokens):\n",
    "            # get the predictions\n",
    "            logits, loss = self(idx) # end up going to forward function ##**\n",
    "            # focus only on the last time step\n",
    "            logits = logits[:, -1, :] # becomes (B, C)\n",
    "            # apply softmax to get probabilities\n",
    "            probs = F.softmax(logits, dim=-1) # (B, C)\n",
    "            # sample from the distribution\n",
    "            idx_next = torch.multinomial(probs, num_samples=1) # (B, 1)\n",
    "            # append sampled index to the running sequence\n",
    "            idx = torch.cat((idx, idx_next), dim=1) # (B, T+1) \n",
    "        return idx # (B, T +max_tokens)"
   ]
  },
  {
   "cell_type": "code",
   "execution_count": 142,
   "metadata": {},
   "outputs": [
    {
     "name": "stdout",
     "output_type": "stream",
     "text": [
      "torch.Size([32, 65])\n",
      "tensor(4.4807, device='cuda:0', grad_fn=<NllLossBackward0>)\n",
      "\n",
      ";xbDkRZ'Ndcowf,ZTkOLlT,eCtK\n",
      "j:!POCkMBbzA$3:XaSvgO-3I&M:d?gIUa\n",
      "hX:LV bthXeNuhqhrMxG.tbVF dXl!SZaAeu?w\n"
     ]
    }
   ],
   "source": [
    "model = BigramLanguageModel()\n",
    "logits, loss = model(xb, yb)\n",
    "print(logits.shape)\n",
    "print(loss)\n",
    "\n",
    "# Generate a sample\n",
    "idx = torch.zeros((1, 1), dtype=torch.long, device=device) # creates a 1x1 zero tensor that starts the genration \n",
    "# Zero is the \"/n\" character, it makes sense to kick off the job with it\n",
    "context = model.generate(idx, max_new_tokens=100)[0] # index into 0th row to unpluck the batch dimension\n",
    "print(decode(context.tolist())) # Convert to a list and decode"
   ]
  },
  {
   "cell_type": "code",
   "execution_count": 143,
   "metadata": {},
   "outputs": [],
   "source": [
    "## Training, create a Pytorch optimizer\n",
    "optimizer = torch.optim.AdamW(model.parameters(), lr=1e-3)"
   ]
  },
  {
   "cell_type": "code",
   "execution_count": 144,
   "metadata": {},
   "outputs": [],
   "source": [
    "batch = 32\n",
    "max_iters = 10000\n",
    "eval_iters = 1000\n",
    "\n",
    "@torch.no_grad()\n",
    "def estimate_loss():\n",
    "    out = {}\n",
    "    model.eval()\n",
    "    for split in [\"train\", \"val\"]:\n",
    "        losses = torch.zeros(eval_iters)\n",
    "        for k in range(eval_iters):\n",
    "            X, y = get_batch(split)\n",
    "            logits, loss = model(X, y)\n",
    "            losses[k] = loss.item()\n",
    "        out[split] = losses.mean()\n",
    "    model.train()\n",
    "    return out"
   ]
  },
  {
   "cell_type": "code",
   "execution_count": 145,
   "metadata": {},
   "outputs": [
    {
     "name": "stdout",
     "output_type": "stream",
     "text": [
      "Step: 0, Loss: 4.301, Val Loss: 4.317\n",
      "Step: 0, Loss: 4.238\n",
      "Step: 1000, Loss: 2.698, Val Loss: 2.710\n",
      "Step: 1000, Loss: 3.128\n",
      "Step: 2000, Loss: 2.601, Val Loss: 2.592\n",
      "Step: 2000, Loss: 2.391\n",
      "Step: 3000, Loss: 2.546, Val Loss: 2.560\n",
      "Step: 3000, Loss: 2.462\n",
      "Step: 4000, Loss: 2.517, Val Loss: 2.531\n",
      "Step: 4000, Loss: 2.781\n"
     ]
    },
    {
     "ename": "KeyboardInterrupt",
     "evalue": "",
     "output_type": "error",
     "traceback": [
      "\u001b[0;31m---------------------------------------------------------------------------\u001b[0m",
      "\u001b[0;31mKeyboardInterrupt\u001b[0m                         Traceback (most recent call last)",
      "Cell \u001b[0;32mIn[145], line 12\u001b[0m\n\u001b[1;32m     10\u001b[0m optimizer\u001b[39m.\u001b[39mzero_grad()\n\u001b[1;32m     11\u001b[0m \u001b[39m# backward pass\u001b[39;00m\n\u001b[0;32m---> 12\u001b[0m loss\u001b[39m.\u001b[39;49mbackward()\n\u001b[1;32m     13\u001b[0m \u001b[39m# update parameters\u001b[39;00m\n\u001b[1;32m     14\u001b[0m optimizer\u001b[39m.\u001b[39mstep()\n",
      "File \u001b[0;32m~/miniconda3/envs/torch-gpu/lib/python3.8/site-packages/torch/_tensor.py:487\u001b[0m, in \u001b[0;36mTensor.backward\u001b[0;34m(self, gradient, retain_graph, create_graph, inputs)\u001b[0m\n\u001b[1;32m    477\u001b[0m \u001b[39mif\u001b[39;00m has_torch_function_unary(\u001b[39mself\u001b[39m):\n\u001b[1;32m    478\u001b[0m     \u001b[39mreturn\u001b[39;00m handle_torch_function(\n\u001b[1;32m    479\u001b[0m         Tensor\u001b[39m.\u001b[39mbackward,\n\u001b[1;32m    480\u001b[0m         (\u001b[39mself\u001b[39m,),\n\u001b[0;32m   (...)\u001b[0m\n\u001b[1;32m    485\u001b[0m         inputs\u001b[39m=\u001b[39minputs,\n\u001b[1;32m    486\u001b[0m     )\n\u001b[0;32m--> 487\u001b[0m torch\u001b[39m.\u001b[39;49mautograd\u001b[39m.\u001b[39;49mbackward(\n\u001b[1;32m    488\u001b[0m     \u001b[39mself\u001b[39;49m, gradient, retain_graph, create_graph, inputs\u001b[39m=\u001b[39;49minputs\n\u001b[1;32m    489\u001b[0m )\n",
      "File \u001b[0;32m~/miniconda3/envs/torch-gpu/lib/python3.8/site-packages/torch/autograd/__init__.py:106\u001b[0m, in \u001b[0;36mbackward\u001b[0;34m(tensors, grad_tensors, retain_graph, create_graph, grad_variables, inputs)\u001b[0m\n\u001b[1;32m    102\u001b[0m         \u001b[39mreturn\u001b[39;00m (tensors, )\n\u001b[1;32m    103\u001b[0m     \u001b[39mreturn\u001b[39;00m \u001b[39mtuple\u001b[39m(tensors)\n\u001b[0;32m--> 106\u001b[0m \u001b[39mdef\u001b[39;00m \u001b[39mbackward\u001b[39m(\n\u001b[1;32m    107\u001b[0m     tensors: _TensorOrTensors,\n\u001b[1;32m    108\u001b[0m     grad_tensors: Optional[_TensorOrTensors] \u001b[39m=\u001b[39m \u001b[39mNone\u001b[39;00m,\n\u001b[1;32m    109\u001b[0m     retain_graph: Optional[\u001b[39mbool\u001b[39m] \u001b[39m=\u001b[39m \u001b[39mNone\u001b[39;00m,\n\u001b[1;32m    110\u001b[0m     create_graph: \u001b[39mbool\u001b[39m \u001b[39m=\u001b[39m \u001b[39mFalse\u001b[39;00m,\n\u001b[1;32m    111\u001b[0m     grad_variables: Optional[_TensorOrTensors] \u001b[39m=\u001b[39m \u001b[39mNone\u001b[39;00m,\n\u001b[1;32m    112\u001b[0m     inputs: Optional[_TensorOrTensors] \u001b[39m=\u001b[39m \u001b[39mNone\u001b[39;00m,\n\u001b[1;32m    113\u001b[0m ) \u001b[39m-\u001b[39m\u001b[39m>\u001b[39m \u001b[39mNone\u001b[39;00m:\n\u001b[1;32m    114\u001b[0m \u001b[39m    \u001b[39m\u001b[39mr\u001b[39m\u001b[39m\"\"\"Computes the sum of gradients of given tensors with respect to graph\u001b[39;00m\n\u001b[1;32m    115\u001b[0m \u001b[39m    leaves.\u001b[39;00m\n\u001b[1;32m    116\u001b[0m \n\u001b[0;32m   (...)\u001b[0m\n\u001b[1;32m    169\u001b[0m \u001b[39m            were used to compute the attr::tensors.\u001b[39;00m\n\u001b[1;32m    170\u001b[0m \u001b[39m    \"\"\"\u001b[39;00m\n\u001b[1;32m    171\u001b[0m     \u001b[39mif\u001b[39;00m torch\u001b[39m.\u001b[39m_C\u001b[39m.\u001b[39m_are_functorch_transforms_active():\n",
      "\u001b[0;31mKeyboardInterrupt\u001b[0m: "
     ]
    }
   ],
   "source": [
    "for iter in range(max_iters):\n",
    "    if iter % eval_iters == 0:\n",
    "        losses = estimate_loss()\n",
    "        print(f\"Step: {iter}, Loss: {losses['train']:.3f}, Val Loss: {losses['val']:.3f}\")\n",
    "    # get a training batch\n",
    "    xb, yb = get_batch(\"train\")\n",
    "    # forward pass\n",
    "    logits, loss = model(xb, yb)\n",
    "    # zero out the gradients\n",
    "    optimizer.zero_grad()\n",
    "    # backward pass\n",
    "    loss.backward()\n",
    "    # update parameters\n",
    "    optimizer.step()\n",
    "    # print out the loss\n",
    "    if iter % 1000 == 0:\n",
    "        print(f\"Step: {iter}, Loss: {loss.item():.3f}\")\n",
    "    "
   ]
  },
  {
   "cell_type": "code",
   "execution_count": null,
   "metadata": {},
   "outputs": [
    {
     "name": "stdout",
     "output_type": "stream",
     "text": [
      "\n",
      "Fwice my.\n",
      "\n",
      "HDEdacom orou:\n",
      "Yowns, tof isth ble m W;\n",
      "I ll, ath iree sengmin lat HFGEdrov ts, anend n nghio.\n",
      "Twabousel lind pe l.\n",
      "HAshe ce hiry:\n",
      "Sug;Maisspllw y.\n",
      "Hllin's n Boopetelivds\n",
      "MP:\n",
      "\n",
      "Pl, d mothakleo W-Cou whthCeiib3Towie m dourive ce hixend t so mower; te\n",
      "\n",
      "ANk d nthrupt f s ar igis! m:\n",
      "\n",
      "Thiny al\n"
     ]
    }
   ],
   "source": [
    "# Generate a sample\n",
    "idx = torch.zeros((1, 1), dtype=torch.long, device=device) # creates a 1x1 zero tensor that starts the genration \n",
    "# Zero is the \"/n\" character, it makes sense to kick off the job with it\n",
    "context = model.generate(idx, max_new_tokens=300)[0] # index into 0th row to unpluck the batch dimension\n",
    "print(decode(context.tolist())) # Convert to a list and decode"
   ]
  },
  {
   "attachments": {},
   "cell_type": "markdown",
   "metadata": {},
   "source": [
    "## Mathematical trick in self-attention\n",
    "- B, T, C = 4, 8, 2 -- batch, time, channel\n",
    "- X = torch.randn(B, T, C)\n",
    "\t- 8 tokens in a batch\n",
    "\t- **we want tokens to talk to each other**\n",
    "\t- token at t=t, should be table to talk from 0...t-1\n",
    "\t- from previous context to current context\n",
    "\t\t- {Weak} Average across all channels from 0...t-1 for **each batch separetely**"
   ]
  },
  {
   "cell_type": "code",
   "execution_count": null,
   "metadata": {},
   "outputs": [],
   "source": [
    "# Brute Force Approach -- Version 1\n",
    "B, T, C = 4, 8, 2\n",
    "x = torch.randn((B, T, C), device=device)\n",
    "xbow = torch.zeros((B, T, C), device=device)\n",
    "for b in range(B):\n",
    "    for t in range(T):\n",
    "        xprev = x[b, :t+1] # Dimension (t, C) where t is len(0...t-1)\n",
    "        xbow[b, t] = torch.mean(xprev, dim=0) # Dimension (C,)"
   ]
  },
  {
   "cell_type": "code",
   "execution_count": null,
   "metadata": {},
   "outputs": [
    {
     "name": "stdout",
     "output_type": "stream",
     "text": [
      "a=\n",
      "tensor([[1.0000, 0.0000, 0.0000],\n",
      "        [0.5000, 0.5000, 0.0000],\n",
      "        [0.3333, 0.3333, 0.3333]], device='cuda:0')\n",
      "b=\n",
      "tensor([[3., 9.],\n",
      "        [8., 0.],\n",
      "        [3., 7.]], device='cuda:0')\n",
      "c=\n",
      "tensor([[3.0000, 9.0000],\n",
      "        [5.5000, 4.5000],\n",
      "        [4.6667, 5.3333]], device='cuda:0')\n"
     ]
    }
   ],
   "source": [
    "# Mathematical Trick - Refer brain/research/nlp/llm/self-atttention.md\n",
    "# Vectorize the operation\n",
    "torch.manual_seed(42)\n",
    "a = torch.tril(torch.ones((3, 3), device=device))\n",
    "a = a / torch.sum(a, dim=1, keepdim=True) # Normalizing at this stage to computer averages instead of sums\n",
    "b = torch.randint(0, 10, (3, 2), device=device).float()\n",
    "c=  a @ b\n",
    "print(\"a=\")\n",
    "print(a)\n",
    "print(\"b=\")\n",
    "print(b)\n",
    "print(\"c=\")\n",
    "print(c)"
   ]
  },
  {
   "cell_type": "code",
   "execution_count": null,
   "metadata": {},
   "outputs": [],
   "source": [
    "# Verson 2 Context based on history, vectorized\n",
    "wei = torch.tril(torch.ones((T, T), device=device))\n",
    "wei = wei / torch.sum(wei, dim=1, keepdim=True) # Normalizing at this stage to computer averages instead of sums\n",
    "xbow2 = wei @ x # @ is batched matrix multiply || (B, T, T) @ (B, T, C) -> (B, T, C)"
   ]
  },
  {
   "cell_type": "code",
   "execution_count": null,
   "metadata": {},
   "outputs": [
    {
     "data": {
      "text/plain": [
       "False"
      ]
     },
     "execution_count": 115,
     "metadata": {},
     "output_type": "execute_result"
    }
   ],
   "source": [
    "torch.allclose(xbow, xbow2)"
   ]
  },
  {
   "cell_type": "code",
   "execution_count": null,
   "metadata": {},
   "outputs": [
    {
     "data": {
      "text/plain": [
       "(tensor([[ 0.1391, -0.1082],\n",
       "         [-0.2891,  0.3242],\n",
       "         [-0.0689, -0.1188],\n",
       "         [-0.0496, -0.0072],\n",
       "         [ 0.0169, -0.1843],\n",
       "         [-0.0130, -0.2879],\n",
       "         [-0.0279, -0.4772],\n",
       "         [-0.0436, -0.4256]], device='cuda:0'),\n",
       " tensor([[-1.5017, -1.3170],\n",
       "         [-1.5050, -0.6563],\n",
       "         [-0.9847, -0.4429],\n",
       "         [-0.6048,  0.1889],\n",
       "         [-0.1852,  0.0913],\n",
       "         [-0.0365,  0.0360],\n",
       "         [-0.2453, -0.0529],\n",
       "         [-0.2619, -0.0816]], device='cuda:0'))"
      ]
     },
     "execution_count": 116,
     "metadata": {},
     "output_type": "execute_result"
    }
   ],
   "source": [
    "xbow[0], xbow2[0]"
   ]
  },
  {
   "cell_type": "code",
   "execution_count": null,
   "metadata": {},
   "outputs": [
    {
     "data": {
      "text/plain": [
       "True"
      ]
     },
     "execution_count": 117,
     "metadata": {},
     "output_type": "execute_result"
    }
   ],
   "source": [
    "# Version 3 -- Weighted aggregation of past elements\n",
    "tril = torch.tril(torch.ones((T, T), device=device))\n",
    "wei = torch.zeros((T, T), device=device) # Affinities betwen tokens are data dependant\n",
    "wei = wei.masked_fill(tril == 0, float('-inf')) # Future cannot communicate with the past\n",
    "wei = F.softmax(wei, dim=1) # Normalization, get the same matrix as it exponentiates away \"-inf\" -> Gets normalized tril\n",
    "xbow3 = wei @ x # @ is batched matrix multiply || (B, T, T) @ (B, T, C) -> (B, T, C)\n",
    "torch.allclose(xbow, xbow3)"
   ]
  },
  {
   "cell_type": "code",
   "execution_count": 147,
   "metadata": {},
   "outputs": [],
   "source": [
    "# Version 4 -- Self Attention\n",
    "torch.manual_seed(1337)\n",
    "B, T, C = 4, 8, 32\n",
    "x = torch.randn((B, T, C), device=device)\n",
    "# query vector -- what am i looking for\n",
    "# key vector -- what do i contain \n",
    "# affinity -- dot(query, key) --> weights\n",
    "tril = torch.tril(torch.ones((T, T), device=device))\n",
    "wei = torch.zeros((T, T), device=device) # Affinities betwen tokens --> Should be data dependent --> Solved by self attention\n",
    "wei = wei.masked_fill(tril == 0, float('-inf')) # Future cannot communicate with the past\n",
    "wei = F.softmax(wei, dim=1) # Normalization, get the same matrix as it exponentiates away \"-inf\" -> Gets normalized tril\n",
    "out = wei @ x # @ is batched matrix multiply || (B, T, T) @ (B, T, C) -> (B, T, C)\n"
   ]
  },
  {
   "cell_type": "code",
   "execution_count": 148,
   "metadata": {},
   "outputs": [
    {
     "data": {
      "text/plain": [
       "tensor([[1., 0., 0., 0., 0., 0., 0., 0.],\n",
       "        [1., 1., 0., 0., 0., 0., 0., 0.],\n",
       "        [1., 1., 1., 0., 0., 0., 0., 0.],\n",
       "        [1., 1., 1., 1., 0., 0., 0., 0.],\n",
       "        [1., 1., 1., 1., 1., 0., 0., 0.],\n",
       "        [1., 1., 1., 1., 1., 1., 0., 0.],\n",
       "        [1., 1., 1., 1., 1., 1., 1., 0.],\n",
       "        [1., 1., 1., 1., 1., 1., 1., 1.]], device='cuda:0')"
      ]
     },
     "execution_count": 148,
     "metadata": {},
     "output_type": "execute_result"
    }
   ],
   "source": [
    "tril"
   ]
  },
  {
   "cell_type": "code",
   "execution_count": 149,
   "metadata": {},
   "outputs": [
    {
     "data": {
      "text/plain": [
       "tensor([[1.0000, 0.0000, 0.0000, 0.0000, 0.0000, 0.0000, 0.0000, 0.0000],\n",
       "        [0.5000, 0.5000, 0.0000, 0.0000, 0.0000, 0.0000, 0.0000, 0.0000],\n",
       "        [0.3333, 0.3333, 0.3333, 0.0000, 0.0000, 0.0000, 0.0000, 0.0000],\n",
       "        [0.2500, 0.2500, 0.2500, 0.2500, 0.0000, 0.0000, 0.0000, 0.0000],\n",
       "        [0.2000, 0.2000, 0.2000, 0.2000, 0.2000, 0.0000, 0.0000, 0.0000],\n",
       "        [0.1667, 0.1667, 0.1667, 0.1667, 0.1667, 0.1667, 0.0000, 0.0000],\n",
       "        [0.1429, 0.1429, 0.1429, 0.1429, 0.1429, 0.1429, 0.1429, 0.0000],\n",
       "        [0.1250, 0.1250, 0.1250, 0.1250, 0.1250, 0.1250, 0.1250, 0.1250]],\n",
       "       device='cuda:0')"
      ]
     },
     "execution_count": 149,
     "metadata": {},
     "output_type": "execute_result"
    }
   ],
   "source": [
    "wei"
   ]
  },
  {
   "cell_type": "code",
   "execution_count": null,
   "metadata": {},
   "outputs": [],
   "source": []
  }
 ],
 "metadata": {
  "kernelspec": {
   "display_name": "torch-gpu",
   "language": "python",
   "name": "python3"
  },
  "language_info": {
   "codemirror_mode": {
    "name": "ipython",
    "version": 3
   },
   "file_extension": ".py",
   "mimetype": "text/x-python",
   "name": "python",
   "nbconvert_exporter": "python",
   "pygments_lexer": "ipython3",
   "version": "3.8.16"
  },
  "orig_nbformat": 4
 },
 "nbformat": 4,
 "nbformat_minor": 2
}
